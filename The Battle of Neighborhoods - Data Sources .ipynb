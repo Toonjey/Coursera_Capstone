{
    "nbformat_minor": 1, 
    "cells": [
        {
            "source": "## Data Sources", 
            "cell_type": "markdown", 
            "metadata": {
                "collapsed": true
            }
        }, 
        {
            "source": "The data sources listed below will be used to carry out the required analysis for the project. A brief description of the data sources follows.", 
            "cell_type": "markdown", 
            "metadata": {}
        }, 
        {
            "source": "1.\tA listing of neighborhoods by Postal Code obtained from Wikipedia (https://en.wikipedia.org/wiki/List_of_postal_codes_of_Canada:_M). The link provides information about Postcodes, Boroughs and Neighborhoods in the city of Toronto.", 
            "cell_type": "markdown", 
            "metadata": {}
        }, 
        {
            "source": "2.\tLatitude and Longitude data provided obtained from https://cocl.us/Geospatial_data. The information here helps to provide accurate location details. This is critical distances of various locations play a key role in the analysis being carried out.", 
            "cell_type": "markdown", 
            "metadata": {}
        }, 
        {
            "source": "3. City data obtained using Foursquare API to provide further details on other available services in the neighborhood.", 
            "cell_type": "markdown", 
            "metadata": {}
        }, 
        {
            "source": "The following information to be gleaned from the data obtained from the sources above and used to determine the best location for the new coffee shop.", 
            "cell_type": "markdown", 
            "metadata": {}
        }, 
        {
            "source": "1.\tAnalysis of each neighborhood to ascertain other stores present \n2.\tDetermining the top ten most common venues in each neighborhood \n3.\tCluster the neighborhood into five clusters\n4.\tAnalyse the clusters to determine most suitable neighborhood to locate the new business\n", 
            "cell_type": "markdown", 
            "metadata": {}
        }, 
        {
            "source": "By carrying out a careful analysis of the clusters, the best location for the coffee shop.", 
            "cell_type": "markdown", 
            "metadata": {}
        }, 
        {
            "execution_count": null, 
            "cell_type": "code", 
            "metadata": {}, 
            "outputs": [], 
            "source": ""
        }
    ], 
    "metadata": {
        "kernelspec": {
            "display_name": "Python 3.5", 
            "name": "python3", 
            "language": "python"
        }, 
        "language_info": {
            "mimetype": "text/x-python", 
            "nbconvert_exporter": "python", 
            "version": "3.5.5", 
            "name": "python", 
            "file_extension": ".py", 
            "pygments_lexer": "ipython3", 
            "codemirror_mode": {
                "version": 3, 
                "name": "ipython"
            }
        }
    }, 
    "nbformat": 4
}