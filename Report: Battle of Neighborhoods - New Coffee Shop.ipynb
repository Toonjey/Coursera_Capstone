{
    "nbformat_minor": 1, 
    "cells": [
        {
            "source": "# Determining the Best Location for a New Coffee Shop", 
            "cell_type": "markdown", 
            "metadata": {
                "collapsed": true
            }
        }, 
        {
            "source": "## Introdution", 
            "cell_type": "markdown", 
            "metadata": {}
        }, 
        {
            "source": "A prospective investor is interested in opening a new coffee shop in the city of Toronto. The investor needs to make a data-based decision on where to locate the new restaurant for best returns on her investment. Investor has chosen Toronto as the city choice as Toronto provides the essential mix \u2013 lots of people, excellent essential and ancillary services and a high sense of taste - needed for a coffee shop to thrive.", 
            "cell_type": "markdown", 
            "metadata": {}
        }, 
        {
            "source": "Coffee shops are thriving in Toronto due to the metropolitan nature of the city and its residents. However, opening a new coffee shop requires careful and detailed analysis to determine the best site to locate the new business.", 
            "cell_type": "markdown", 
            "metadata": {}
        }, 
        {
            "source": "The objective of this analysis is to determine the best location for a new coffee shop in Toronto by analyzing data from various sources.", 
            "cell_type": "markdown", 
            "metadata": {}
        }, 
        {
            "source": "## Data Sources", 
            "cell_type": "markdown", 
            "metadata": {}
        }, 
        {
            "source": "The data sources listed below will be used to carry out the required analysis for the project. A brief description of the data sources follows.\n\n1. A listing of neighborhoods by Postal Code obtained from Wikipedia (https://en.wikipedia.org/wiki/List_of_postal_codes_of_Canada:_M). The link provides information about Postcodes, Boroughs and Neighborhoods in the city of Toronto.\n\n2. Latitude and Longitude data provided obtained from https://cocl.us/Geospatial_data. The information here helps to provide accurate location details. This is critical because distances of various locations play a key role in the analysis being carried out.\n\n3. City data obtained using Foursquare API to provide further details on other available services in the neighborhood.\n\n\nThe following information to be gleaned from the data obtained from the sources above and used to determine the best location for the new coffee shop.\n\n1. Analysis of each neighborhood to ascertain other stores present\n2. Determining the top ten most common venues in each neighborhood\n3. Cluster the neighborhood into five clusters\n4. Analyse the clusters to determine most suitable neighborhood to locate the new business\n\n\nBy carrying out a careful analysis of the clusters, the best location for the coffee shop.", 
            "cell_type": "markdown", 
            "metadata": {}
        }, 
        {
            "source": "### Data Wrangling", 
            "cell_type": "markdown", 
            "metadata": {}
        }, 
        {
            "source": "1. Load in all the Data from the various sources.\n    \n   Toronto neighborhoods data broken down by postal code (https://en.wikipedia.org/wiki/List_of_postal_codes_of_Canada:_M)       \n   BeautifulSoup was used to scrape the wiki page to extract a list of Toronto Neighborhoods sorted by postal code.\n   \n   Load Toronto geospatial coordinates and merge to Toronto Postal Code Data: http://cocl.us/Geospatial_data\n   Toronto Geospatial was merged with Toronto Postal Data.\n\n\n2. Generate Toronto list of Restaurants or Venues were a new Coffee Shop can be potentially located using Foursquare API: https://api.foursquare.com\n\n     Get all the Venues in Toronto.\n     Only add Restaurants as Venue Categories\n\n3. OneHot encode and count restaurants\n\n4. Prepare data for cluster analysis\n\n5. Aggregate all date into a Data Set to cluster\n\n6. Determine the best cluster\n\n7. Use Geo spatial map of the results showing the best neighborhood to open a Cofee Shop", 
            "cell_type": "markdown", 
            "metadata": {}
        }, 
        {
            "source": "## Methodology\n\n1. K-Means Clustering was used to determine the best location of the new Coffee Shop\n\n\u201cK-means clustering is an iterative clustering algorithm where the number of clusters K is predetermined and the algorithm iteratively assigns each data \npoint to one of the K clusters based on the feature similarity.\u201d (https://towardsdatascience.com/clustering-algorithms-for-customer-segmentation-af637c6830ac)\n\n2. Cluster with highest restaturant density was picked as the best area to locate new shop\n\n3. The centre of the cluster was picked as the best location for the Coffee shop", 
            "cell_type": "markdown", 
            "metadata": {}
        }, 
        {
            "source": "## Results\n#### Exact Address of New Cofee Shop\n\nUsing Opencage, the best loaction was found to be 243 Cortleigh Boulevard, Toronto, ON M5N 2R1, Canada.\n\n", 
            "cell_type": "markdown", 
            "attachments": {}, 
            "metadata": {}
        }, 
        {
            "source": "## Discussion\n\nK-Means was applied to the dataset and the analysis showed that there was a lot of similarity amongst neighborhoods and the most common restaurants contained within Toronto. All the areas were grouped into five clusters. The cluter with the greatest density was cluster 0 and most of these restarants were located close to the center of Toronto.\n\n", 
            "cell_type": "markdown", 
            "metadata": {}
        }, 
        {
            "source": "## Conclusion\n\nI am confident with the recommendation I provided to the investor as it is backed up with demonstrated data analysis. She is now in a better position to decide on the next line of action with a greater measure of confidence. \n\n", 
            "cell_type": "markdown", 
            "metadata": {}
        }, 
        {
            "execution_count": null, 
            "cell_type": "code", 
            "metadata": {}, 
            "outputs": [], 
            "source": ""
        }
    ], 
    "metadata": {
        "kernelspec": {
            "display_name": "Python 3.5", 
            "name": "python3", 
            "language": "python"
        }, 
        "language_info": {
            "mimetype": "text/x-python", 
            "nbconvert_exporter": "python", 
            "version": "3.5.5", 
            "name": "python", 
            "file_extension": ".py", 
            "pygments_lexer": "ipython3", 
            "codemirror_mode": {
                "version": 3, 
                "name": "ipython"
            }
        }
    }, 
    "nbformat": 4
}