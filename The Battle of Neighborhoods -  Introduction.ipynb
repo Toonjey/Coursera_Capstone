{
    "nbformat_minor": 1, 
    "cells": [
        {
            "source": "# Determining the Best Location for a New Coffee Shop", 
            "cell_type": "markdown", 
            "metadata": {
                "collapsed": true
            }
        }, 
        {
            "source": "## Introdution", 
            "cell_type": "markdown", 
            "metadata": {}
        }, 
        {
            "source": "A prospective investor is interested in opening a new coffee shop in the city of Toronto. The investor needs to make a data-based decision on where to locate the new restaurant for best returns on her investment. Investor has chosen Toronto as the city choice as Toronto provides the essential mix \u2013 lots of people, excellent essential and ancillary services and a high sense of taste - needed for a coffee shop to thrive. ", 
            "cell_type": "markdown", 
            "metadata": {}
        }, 
        {
            "source": "Coffee shops are thriving in Toronto due to the metropolitan nature of the city and its residents. However, opening a new coffee shop requires careful and detailed analysis to determine the best site to locate the new business. ", 
            "cell_type": "markdown", 
            "metadata": {}
        }, 
        {
            "source": "The objective of this analysis is to determine the best location for a new coffee shop in Toronto by analyzing data from various sources.", 
            "cell_type": "markdown", 
            "metadata": {}
        }, 
        {
            "execution_count": null, 
            "cell_type": "code", 
            "metadata": {}, 
            "outputs": [], 
            "source": ""
        }
    ], 
    "metadata": {
        "kernelspec": {
            "display_name": "Python 3.5", 
            "name": "python3", 
            "language": "python"
        }, 
        "language_info": {
            "mimetype": "text/x-python", 
            "nbconvert_exporter": "python", 
            "version": "3.5.5", 
            "name": "python", 
            "file_extension": ".py", 
            "pygments_lexer": "ipython3", 
            "codemirror_mode": {
                "version": 3, 
                "name": "ipython"
            }
        }
    }, 
    "nbformat": 4
}